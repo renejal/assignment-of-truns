{
 "cells": [
  {
   "cell_type": "code",
   "execution_count": 60,
   "metadata": {},
   "outputs": [
    {
     "data": {
      "text/plain": [
       "[4, 5]"
      ]
     },
     "execution_count": 60,
     "metadata": {},
     "output_type": "execute_result"
    }
   ],
   "source": [
    "#inner join\n",
    "import pandas as pd\n",
    "lista = [1,2,3,4,5]\n",
    "listb = [4,5,6,7,8]\n",
    "d1 ={'key':lista}\n",
    "d2 ={'key':listb}\n",
    "df2 = pd.DataFrame(data = d2)\n",
    "df1 = pd.DataFrame(data = d1)\n",
    "df = pd.merge(df1,df2,on='key')\n",
    "inner =list(df[\"key\"])\n",
    "inner\n"
   ]
  },
  {
   "cell_type": "code",
   "execution_count": 56,
   "metadata": {},
   "outputs": [
    {
     "data": {
      "text/plain": [
       "[1, 2, 3]"
      ]
     },
     "execution_count": 56,
     "metadata": {},
     "output_type": "execute_result"
    }
   ],
   "source": [
    "left = list(set(lista) - set(inner))\n",
    "left\n"
   ]
  },
  {
   "cell_type": "code",
   "execution_count": 58,
   "metadata": {},
   "outputs": [
    {
     "data": {
      "text/plain": [
       "[8, 6, 7]"
      ]
     },
     "execution_count": 58,
     "metadata": {},
     "output_type": "execute_result"
    }
   ],
   "source": [
    "right = list(set(listb)- set(inner))\n",
    "right"
   ]
  }
 ],
 "metadata": {
  "interpreter": {
   "hash": "339ef288bfedf4aa6b613faeef53ff3c0ced69c0c6ec5d616749153149fcd088"
  },
  "kernelspec": {
   "display_name": "Python 3.8.3 ('.venv': venv)",
   "language": "python",
   "name": "python3"
  },
  "language_info": {
   "codemirror_mode": {
    "name": "ipython",
    "version": 3
   },
   "file_extension": ".py",
   "mimetype": "text/x-python",
   "name": "python",
   "nbconvert_exporter": "python",
   "pygments_lexer": "ipython3",
   "version": "3.8.3"
  },
  "orig_nbformat": 4
 },
 "nbformat": 4,
 "nbformat_minor": 2
}
